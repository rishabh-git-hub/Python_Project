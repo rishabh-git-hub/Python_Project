{
 "cells": [
  {
   "cell_type": "markdown",
   "metadata": {
    "application/vnd.databricks.v1+cell": {
     "cellMetadata": {
      "byteLimit": 2048000,
      "rowLimit": 10000
     },
     "inputWidgets": {},
     "nuid": "7d75864a-a1e2-4026-9446-ebfdd773eb0d",
     "showTitle": false,
     "tableResultSettingsMap": {},
     "title": ""
    }
   },
   "source": [
    "###Connection with aws S3"
   ]
  },
  {
   "cell_type": "code",
   "execution_count": 0,
   "metadata": {
    "application/vnd.databricks.v1+cell": {
     "cellMetadata": {
      "byteLimit": 2048000,
      "rowLimit": 10000
     },
     "inputWidgets": {},
     "nuid": "0aa9fcdf-049c-4f28-ba1f-39dbea2d8113",
     "showTitle": false,
     "tableResultSettingsMap": {},
     "title": ""
    }
   },
   "outputs": [],
   "source": [
    "from pyspark.sql import SparkSession\n",
    "\n",
    "spark = SparkSession.builder \\\n",
    "    .appName(\"S3 Data Loading\") \\\n",
    "    .getOrCreate()\n"
   ]
  },
  {
   "cell_type": "code",
   "execution_count": 0,
   "metadata": {
    "application/vnd.databricks.v1+cell": {
     "cellMetadata": {
      "byteLimit": 2048000,
      "rowLimit": 10000
     },
     "inputWidgets": {},
     "nuid": "1bc943dc-d6cb-47b0-be1b-92da47cfb026",
     "showTitle": false,
     "tableResultSettingsMap": {},
     "title": ""
    }
   },
   "outputs": [
    {
     "output_type": "stream",
     "name": "stdout",
     "output_type": "stream",
     "text": [
      "+---+-------+--------------------+\n| id|trainer|        zeyoStudents|\n+---+-------+--------------------+\n|  2|    Sai|[{{21, Ajay}}, {{...|\n+---+-------+--------------------+\n\n"
     ]
    }
   ],
   "source": [
    "\n",
    "data= \"\"\"\n",
    "\n",
    "{\n",
    "    \"id\": 2,\n",
    "    \"trainer\": \"Sai\",\n",
    "    \"zeyoStudents\": [\n",
    "        {\n",
    "            \"user\": {\n",
    "                \"name\": \"Ajay\",\n",
    "                \"age\": 21\n",
    "            }\n",
    "        },\n",
    "        {\n",
    "            \"user\": {\n",
    "                \"name\": \"Rani\",\n",
    "                \"age\": 24\n",
    "            }\n",
    "        }\n",
    "    ]\n",
    "}\n",
    "\n",
    "\"\"\"\n",
    "df = spark.read.json(sc.parallelize([data],1))\n",
    "df.show()"
   ]
  },
  {
   "cell_type": "code",
   "execution_count": 0,
   "metadata": {
    "application/vnd.databricks.v1+cell": {
     "cellMetadata": {
      "byteLimit": 2048000,
      "rowLimit": 10000
     },
     "inputWidgets": {},
     "nuid": "fe92ef37-85af-483c-af16-907726c94e52",
     "showTitle": false,
     "tableResultSettingsMap": {},
     "title": ""
    }
   },
   "outputs": [
    {
     "output_type": "stream",
     "name": "stdout",
     "output_type": "stream",
     "text": [
      "root\n |-- id: long (nullable = true)\n |-- trainer: string (nullable = true)\n |-- zeyoStudents: array (nullable = true)\n |    |-- element: struct (containsNull = true)\n |    |    |-- user: struct (nullable = true)\n |    |    |    |-- age: long (nullable = true)\n |    |    |    |-- name: string (nullable = true)\n\n"
     ]
    }
   ],
   "source": [
    "df.printSchema()"
   ]
  },
  {
   "cell_type": "code",
   "execution_count": 0,
   "metadata": {
    "application/vnd.databricks.v1+cell": {
     "cellMetadata": {
      "byteLimit": 2048000,
      "rowLimit": 10000
     },
     "inputWidgets": {},
     "nuid": "017b8b1d-c14c-4055-a66d-9e7df609941a",
     "showTitle": false,
     "tableResultSettingsMap": {},
     "title": ""
    }
   },
   "outputs": [],
   "source": [
    "flat_1 = df.selectExpr(\"id\",\"trainer\",\n",
    "                       \"explode(zeyoStudents) as Students\"\n",
    "                       )"
   ]
  },
  {
   "cell_type": "code",
   "execution_count": 0,
   "metadata": {
    "application/vnd.databricks.v1+cell": {
     "cellMetadata": {
      "byteLimit": 2048000,
      "rowLimit": 10000
     },
     "inputWidgets": {},
     "nuid": "bbed5a6f-5c0a-4a3c-b6e9-11ea723c5912",
     "showTitle": false,
     "tableResultSettingsMap": {},
     "title": ""
    }
   },
   "outputs": [
    {
     "output_type": "stream",
     "name": "stdout",
     "output_type": "stream",
     "text": [
      "+---+-------+------------+\n| id|trainer|    Students|\n+---+-------+------------+\n|  2|    Sai|{{21, Ajay}}|\n|  2|    Sai|{{24, Rani}}|\n+---+-------+------------+\n\n"
     ]
    }
   ],
   "source": [
    "flat_1.show()"
   ]
  },
  {
   "cell_type": "code",
   "execution_count": 0,
   "metadata": {
    "application/vnd.databricks.v1+cell": {
     "cellMetadata": {
      "byteLimit": 2048000,
      "rowLimit": 10000
     },
     "inputWidgets": {},
     "nuid": "8cad9bb9-5d97-4f41-8a75-dcb36aea6b85",
     "showTitle": false,
     "tableResultSettingsMap": {},
     "title": ""
    }
   },
   "outputs": [],
   "source": [
    "flat_2 = flat_1.selectExpr(\"id\",\n",
    "                        \"trainer\",\n",
    "                    \"Students.user.age\",\n",
    "                    \"Students.user.name\"\n",
    "                           )"
   ]
  },
  {
   "cell_type": "code",
   "execution_count": 0,
   "metadata": {
    "application/vnd.databricks.v1+cell": {
     "cellMetadata": {
      "byteLimit": 2048000,
      "rowLimit": 10000
     },
     "inputWidgets": {},
     "nuid": "826212f7-2960-41e5-8780-0ceaabb52e48",
     "showTitle": false,
     "tableResultSettingsMap": {},
     "title": ""
    }
   },
   "outputs": [
    {
     "output_type": "stream",
     "name": "stdout",
     "output_type": "stream",
     "text": [
      "+---+-------+---+----+\n| id|trainer|age|name|\n+---+-------+---+----+\n|  2|    Sai| 21|Ajay|\n|  2|    Sai| 24|Rani|\n+---+-------+---+----+\n\n"
     ]
    }
   ],
   "source": [
    "flat_2.show()"
   ]
  },
  {
   "cell_type": "code",
   "execution_count": 0,
   "metadata": {
    "application/vnd.databricks.v1+cell": {
     "cellMetadata": {},
     "inputWidgets": {},
     "nuid": "6afaf8be-4005-4923-996d-c3ccf622ca37",
     "showTitle": false,
     "tableResultSettingsMap": {},
     "title": ""
    }
   },
   "outputs": [],
   "source": []
  }
 ],
 "metadata": {
  "application/vnd.databricks.v1+notebook": {
   "computePreferences": null,
   "dashboards": [],
   "environmentMetadata": {
    "base_environment": "",
    "client": "1"
   },
   "language": "python",
   "notebookMetadata": {
    "pythonIndentUnit": 4
   },
   "notebookName": "(Clone) test_notebok",
   "widgets": {}
  }
 },
 "nbformat": 4,
 "nbformat_minor": 0
}
